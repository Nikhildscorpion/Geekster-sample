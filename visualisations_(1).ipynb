{
  "cells": [
    {
      "cell_type": "markdown",
      "metadata": {
        "id": "view-in-github",
        "colab_type": "text"
      },
      "source": [
        "<a href=\"https://colab.research.google.com/github/Nikhildscorpion/Geekster-sample/blob/main/visualisations_(1).ipynb\" target=\"_parent\"><img src=\"https://colab.research.google.com/assets/colab-badge.svg\" alt=\"Open In Colab\"/></a>"
      ]
    },
    {
      "cell_type": "code",
      "execution_count": null,
      "id": "1acc0018-457b-49de-ace0-07a2e3c21d99",
      "metadata": {
        "id": "1acc0018-457b-49de-ace0-07a2e3c21d99",
        "outputId": "20199d39-41f6-4328-fd4f-8cc7ba9b06e6"
      },
      "outputs": [
        {
          "name": "stdout",
          "output_type": "stream",
          "text": [
            "Requirement already satisfied: matplotlib in c:\\users\\nikra\\anaconda3\\lib\\site-packages (3.8.0)\n",
            "Requirement already satisfied: contourpy>=1.0.1 in c:\\users\\nikra\\anaconda3\\lib\\site-packages (from matplotlib) (1.2.0)\n",
            "Requirement already satisfied: cycler>=0.10 in c:\\users\\nikra\\anaconda3\\lib\\site-packages (from matplotlib) (0.11.0)\n",
            "Requirement already satisfied: fonttools>=4.22.0 in c:\\users\\nikra\\anaconda3\\lib\\site-packages (from matplotlib) (4.25.0)\n",
            "Requirement already satisfied: kiwisolver>=1.0.1 in c:\\users\\nikra\\anaconda3\\lib\\site-packages (from matplotlib) (1.4.4)\n",
            "Requirement already satisfied: numpy<2,>=1.21 in c:\\users\\nikra\\anaconda3\\lib\\site-packages (from matplotlib) (1.26.4)\n",
            "Requirement already satisfied: packaging>=20.0 in c:\\users\\nikra\\anaconda3\\lib\\site-packages (from matplotlib) (23.1)\n",
            "Requirement already satisfied: pillow>=6.2.0 in c:\\users\\nikra\\anaconda3\\lib\\site-packages (from matplotlib) (10.2.0)\n",
            "Requirement already satisfied: pyparsing>=2.3.1 in c:\\users\\nikra\\anaconda3\\lib\\site-packages (from matplotlib) (3.0.9)\n",
            "Requirement already satisfied: python-dateutil>=2.7 in c:\\users\\nikra\\anaconda3\\lib\\site-packages (from matplotlib) (2.8.2)\n",
            "Requirement already satisfied: six>=1.5 in c:\\users\\nikra\\anaconda3\\lib\\site-packages (from python-dateutil>=2.7->matplotlib) (1.16.0)\n",
            "Note: you may need to restart the kernel to use updated packages.\n"
          ]
        }
      ],
      "source": [
        "pip install matplotlib"
      ]
    },
    {
      "cell_type": "code",
      "execution_count": null,
      "id": "2e32cf74-647e-4661-8ac6-f7d0858d3851",
      "metadata": {
        "id": "2e32cf74-647e-4661-8ac6-f7d0858d3851",
        "outputId": "50a1137c-36c7-44fd-a752-4b75c27145d7"
      },
      "outputs": [
        {
          "name": "stdout",
          "output_type": "stream",
          "text": [
            "Requirement already satisfied: seaborn in c:\\users\\nikra\\anaconda3\\lib\\site-packages (0.12.2)\n",
            "Requirement already satisfied: numpy!=1.24.0,>=1.17 in c:\\users\\nikra\\anaconda3\\lib\\site-packages (from seaborn) (1.26.4)\n",
            "Requirement already satisfied: pandas>=0.25 in c:\\users\\nikra\\anaconda3\\lib\\site-packages (from seaborn) (2.1.4)\n",
            "Requirement already satisfied: matplotlib!=3.6.1,>=3.1 in c:\\users\\nikra\\anaconda3\\lib\\site-packages (from seaborn) (3.8.0)\n",
            "Requirement already satisfied: contourpy>=1.0.1 in c:\\users\\nikra\\anaconda3\\lib\\site-packages (from matplotlib!=3.6.1,>=3.1->seaborn) (1.2.0)\n",
            "Requirement already satisfied: cycler>=0.10 in c:\\users\\nikra\\anaconda3\\lib\\site-packages (from matplotlib!=3.6.1,>=3.1->seaborn) (0.11.0)\n",
            "Requirement already satisfied: fonttools>=4.22.0 in c:\\users\\nikra\\anaconda3\\lib\\site-packages (from matplotlib!=3.6.1,>=3.1->seaborn) (4.25.0)\n",
            "Requirement already satisfied: kiwisolver>=1.0.1 in c:\\users\\nikra\\anaconda3\\lib\\site-packages (from matplotlib!=3.6.1,>=3.1->seaborn) (1.4.4)\n",
            "Requirement already satisfied: packaging>=20.0 in c:\\users\\nikra\\anaconda3\\lib\\site-packages (from matplotlib!=3.6.1,>=3.1->seaborn) (23.1)\n",
            "Requirement already satisfied: pillow>=6.2.0 in c:\\users\\nikra\\anaconda3\\lib\\site-packages (from matplotlib!=3.6.1,>=3.1->seaborn) (10.2.0)\n",
            "Requirement already satisfied: pyparsing>=2.3.1 in c:\\users\\nikra\\anaconda3\\lib\\site-packages (from matplotlib!=3.6.1,>=3.1->seaborn) (3.0.9)\n",
            "Requirement already satisfied: python-dateutil>=2.7 in c:\\users\\nikra\\anaconda3\\lib\\site-packages (from matplotlib!=3.6.1,>=3.1->seaborn) (2.8.2)\n",
            "Requirement already satisfied: pytz>=2020.1 in c:\\users\\nikra\\anaconda3\\lib\\site-packages (from pandas>=0.25->seaborn) (2023.3.post1)\n",
            "Requirement already satisfied: tzdata>=2022.1 in c:\\users\\nikra\\anaconda3\\lib\\site-packages (from pandas>=0.25->seaborn) (2023.3)\n",
            "Requirement already satisfied: six>=1.5 in c:\\users\\nikra\\anaconda3\\lib\\site-packages (from python-dateutil>=2.7->matplotlib!=3.6.1,>=3.1->seaborn) (1.16.0)\n"
          ]
        }
      ],
      "source": [
        "!pip install seaborn"
      ]
    },
    {
      "cell_type": "code",
      "execution_count": null,
      "id": "2ef46ed1-e1e8-42d4-9f38-498a1ed22b6b",
      "metadata": {
        "id": "2ef46ed1-e1e8-42d4-9f38-498a1ed22b6b"
      },
      "outputs": [],
      "source": [
        "import pandas as pd\n",
        "import numpy as np\n",
        "import matplotlib.pyplot as plt\n",
        "import seaborn as sns"
      ]
    },
    {
      "cell_type": "code",
      "execution_count": null,
      "id": "cf4738fb-25a4-4858-b43e-43affe0f8c11",
      "metadata": {
        "id": "cf4738fb-25a4-4858-b43e-43affe0f8c11"
      },
      "outputs": [],
      "source": [
        "df=pd.read_csv(\"BAC.csv\")"
      ]
    },
    {
      "cell_type": "code",
      "execution_count": null,
      "id": "fde7baa6-58e4-4965-a76b-2d30baf72d0a",
      "metadata": {
        "id": "fde7baa6-58e4-4965-a76b-2d30baf72d0a",
        "outputId": "b20811fa-4560-49c5-ab71-aa56f8897f0b"
      },
      "outputs": [
        {
          "data": {
            "text/html": [
              "<div>\n",
              "<style scoped>\n",
              "    .dataframe tbody tr th:only-of-type {\n",
              "        vertical-align: middle;\n",
              "    }\n",
              "\n",
              "    .dataframe tbody tr th {\n",
              "        vertical-align: top;\n",
              "    }\n",
              "\n",
              "    .dataframe thead th {\n",
              "        text-align: right;\n",
              "    }\n",
              "</style>\n",
              "<table border=\"1\" class=\"dataframe\">\n",
              "  <thead>\n",
              "    <tr style=\"text-align: right;\">\n",
              "      <th></th>\n",
              "      <th>Date</th>\n",
              "      <th>Open</th>\n",
              "      <th>High</th>\n",
              "      <th>Low</th>\n",
              "      <th>Close</th>\n",
              "      <th>Adj Close</th>\n",
              "      <th>Volume</th>\n",
              "    </tr>\n",
              "  </thead>\n",
              "  <tbody>\n",
              "    <tr>\n",
              "      <th>0</th>\n",
              "      <td>2006-01-03</td>\n",
              "      <td>46.919998</td>\n",
              "      <td>47.180000</td>\n",
              "      <td>46.150002</td>\n",
              "      <td>47.080002</td>\n",
              "      <td>34.811729</td>\n",
              "      <td>16296700</td>\n",
              "    </tr>\n",
              "    <tr>\n",
              "      <th>1</th>\n",
              "      <td>2006-01-04</td>\n",
              "      <td>47.000000</td>\n",
              "      <td>47.240002</td>\n",
              "      <td>46.450001</td>\n",
              "      <td>46.580002</td>\n",
              "      <td>34.442013</td>\n",
              "      <td>17757900</td>\n",
              "    </tr>\n",
              "    <tr>\n",
              "      <th>2</th>\n",
              "      <td>2006-01-05</td>\n",
              "      <td>46.580002</td>\n",
              "      <td>46.830002</td>\n",
              "      <td>46.320000</td>\n",
              "      <td>46.639999</td>\n",
              "      <td>34.486385</td>\n",
              "      <td>14970700</td>\n",
              "    </tr>\n",
              "    <tr>\n",
              "      <th>3</th>\n",
              "      <td>2006-01-06</td>\n",
              "      <td>46.799999</td>\n",
              "      <td>46.910000</td>\n",
              "      <td>46.349998</td>\n",
              "      <td>46.570000</td>\n",
              "      <td>34.434616</td>\n",
              "      <td>12599800</td>\n",
              "    </tr>\n",
              "    <tr>\n",
              "      <th>4</th>\n",
              "      <td>2006-01-09</td>\n",
              "      <td>46.720001</td>\n",
              "      <td>46.970001</td>\n",
              "      <td>46.360001</td>\n",
              "      <td>46.599998</td>\n",
              "      <td>34.456806</td>\n",
              "      <td>15619400</td>\n",
              "    </tr>\n",
              "  </tbody>\n",
              "</table>\n",
              "</div>"
            ],
            "text/plain": [
              "         Date       Open       High        Low      Close  Adj Close    Volume\n",
              "0  2006-01-03  46.919998  47.180000  46.150002  47.080002  34.811729  16296700\n",
              "1  2006-01-04  47.000000  47.240002  46.450001  46.580002  34.442013  17757900\n",
              "2  2006-01-05  46.580002  46.830002  46.320000  46.639999  34.486385  14970700\n",
              "3  2006-01-06  46.799999  46.910000  46.349998  46.570000  34.434616  12599800\n",
              "4  2006-01-09  46.720001  46.970001  46.360001  46.599998  34.456806  15619400"
            ]
          },
          "execution_count": 43,
          "metadata": {},
          "output_type": "execute_result"
        }
      ],
      "source": [
        "df.head()"
      ]
    },
    {
      "cell_type": "code",
      "execution_count": null,
      "id": "90d88769-0f52-4678-88ec-071911f42299",
      "metadata": {
        "id": "90d88769-0f52-4678-88ec-071911f42299",
        "outputId": "cc23e262-1898-46c9-988b-22cb478ac52b"
      },
      "outputs": [
        {
          "data": {
            "text/plain": [
              "<bound method DataFrame.info of             Date       Open       High        Low      Close  Adj Close  \\\n",
              "0     2006-01-03  46.919998  47.180000  46.150002  47.080002  34.811729   \n",
              "1     2006-01-04  47.000000  47.240002  46.450001  46.580002  34.442013   \n",
              "2     2006-01-05  46.580002  46.830002  46.320000  46.639999  34.486385   \n",
              "3     2006-01-06  46.799999  46.910000  46.349998  46.570000  34.434616   \n",
              "4     2006-01-09  46.720001  46.970001  46.360001  46.599998  34.456806   \n",
              "...          ...        ...        ...        ...        ...        ...   \n",
              "3518  2019-12-24  35.189999  35.279999  35.119999  35.220001  34.513897   \n",
              "3519  2019-12-26  35.320000  35.560001  35.290001  35.520000  34.807880   \n",
              "3520  2019-12-27  35.700001  35.720001  35.259998  35.349998  34.641285   \n",
              "3521  2019-12-30  35.570000  35.650002  35.090000  35.150002  34.445301   \n",
              "3522  2019-12-31  35.029999  35.259998  34.970001  35.220001  34.513897   \n",
              "\n",
              "        Volume  \n",
              "0     16296700  \n",
              "1     17757900  \n",
              "2     14970700  \n",
              "3     12599800  \n",
              "4     15619400  \n",
              "...        ...  \n",
              "3518  13805400  \n",
              "3519  26992100  \n",
              "3520  28111300  \n",
              "3521  30705100  \n",
              "3522  29630100  \n",
              "\n",
              "[3523 rows x 7 columns]>"
            ]
          },
          "execution_count": 44,
          "metadata": {},
          "output_type": "execute_result"
        }
      ],
      "source": [
        "df.info"
      ]
    },
    {
      "cell_type": "code",
      "execution_count": null,
      "id": "4a741d04-a735-420d-a366-4dc0acfa53a1",
      "metadata": {
        "id": "4a741d04-a735-420d-a366-4dc0acfa53a1",
        "outputId": "fff049a4-c46b-4c04-fd25-3b6ab0b60997"
      },
      "outputs": [
        {
          "data": {
            "text/plain": [
              "Index(['Date', 'Open', 'High', 'Low', 'Close', 'Adj Close', 'Volume'], dtype='object')"
            ]
          },
          "execution_count": 45,
          "metadata": {},
          "output_type": "execute_result"
        }
      ],
      "source": [
        "df.columns"
      ]
    },
    {
      "cell_type": "code",
      "execution_count": null,
      "id": "04d88f7e-d167-4e39-a650-45845661330d",
      "metadata": {
        "id": "04d88f7e-d167-4e39-a650-45845661330d"
      },
      "outputs": [],
      "source": [
        "df1=pd.read_csv(\"C.csv\")"
      ]
    },
    {
      "cell_type": "code",
      "execution_count": null,
      "id": "081b47eb-46b6-4d64-90e4-21d3360007fe",
      "metadata": {
        "id": "081b47eb-46b6-4d64-90e4-21d3360007fe"
      },
      "outputs": [],
      "source": [
        "df2=pd.read_csv(\"GS.csv\")"
      ]
    },
    {
      "cell_type": "code",
      "execution_count": null,
      "id": "77b1b92b-c9b6-42d3-8b53-fa478cd3d5a0",
      "metadata": {
        "id": "77b1b92b-c9b6-42d3-8b53-fa478cd3d5a0",
        "outputId": "33a8462e-6a33-4b6d-898f-0a41cf6985a3"
      },
      "outputs": [
        {
          "data": {
            "text/html": [
              "<div>\n",
              "<style scoped>\n",
              "    .dataframe tbody tr th:only-of-type {\n",
              "        vertical-align: middle;\n",
              "    }\n",
              "\n",
              "    .dataframe tbody tr th {\n",
              "        vertical-align: top;\n",
              "    }\n",
              "\n",
              "    .dataframe thead th {\n",
              "        text-align: right;\n",
              "    }\n",
              "</style>\n",
              "<table border=\"1\" class=\"dataframe\">\n",
              "  <thead>\n",
              "    <tr style=\"text-align: right;\">\n",
              "      <th></th>\n",
              "      <th>Date</th>\n",
              "      <th>Open</th>\n",
              "      <th>High</th>\n",
              "      <th>Low</th>\n",
              "      <th>Close</th>\n",
              "      <th>Adj Close</th>\n",
              "      <th>Volume</th>\n",
              "    </tr>\n",
              "  </thead>\n",
              "  <tbody>\n",
              "    <tr>\n",
              "      <th>0</th>\n",
              "      <td>2006-01-03</td>\n",
              "      <td>490.000000</td>\n",
              "      <td>493.799988</td>\n",
              "      <td>481.100006</td>\n",
              "      <td>492.899994</td>\n",
              "      <td>436.462433</td>\n",
              "      <td>1537600</td>\n",
              "    </tr>\n",
              "    <tr>\n",
              "      <th>1</th>\n",
              "      <td>2006-01-04</td>\n",
              "      <td>488.600006</td>\n",
              "      <td>491.000000</td>\n",
              "      <td>483.500000</td>\n",
              "      <td>483.799988</td>\n",
              "      <td>428.404449</td>\n",
              "      <td>1870900</td>\n",
              "    </tr>\n",
              "    <tr>\n",
              "      <th>2</th>\n",
              "      <td>2006-01-05</td>\n",
              "      <td>484.399994</td>\n",
              "      <td>487.799988</td>\n",
              "      <td>484.000000</td>\n",
              "      <td>486.200012</td>\n",
              "      <td>430.529663</td>\n",
              "      <td>1143100</td>\n",
              "    </tr>\n",
              "    <tr>\n",
              "      <th>3</th>\n",
              "      <td>2006-01-06</td>\n",
              "      <td>488.799988</td>\n",
              "      <td>489.000000</td>\n",
              "      <td>482.000000</td>\n",
              "      <td>486.200012</td>\n",
              "      <td>430.529663</td>\n",
              "      <td>1370200</td>\n",
              "    </tr>\n",
              "    <tr>\n",
              "      <th>4</th>\n",
              "      <td>2006-01-09</td>\n",
              "      <td>486.000000</td>\n",
              "      <td>487.399994</td>\n",
              "      <td>483.000000</td>\n",
              "      <td>483.899994</td>\n",
              "      <td>428.493073</td>\n",
              "      <td>1680700</td>\n",
              "    </tr>\n",
              "  </tbody>\n",
              "</table>\n",
              "</div>"
            ],
            "text/plain": [
              "         Date        Open        High         Low       Close   Adj Close  \\\n",
              "0  2006-01-03  490.000000  493.799988  481.100006  492.899994  436.462433   \n",
              "1  2006-01-04  488.600006  491.000000  483.500000  483.799988  428.404449   \n",
              "2  2006-01-05  484.399994  487.799988  484.000000  486.200012  430.529663   \n",
              "3  2006-01-06  488.799988  489.000000  482.000000  486.200012  430.529663   \n",
              "4  2006-01-09  486.000000  487.399994  483.000000  483.899994  428.493073   \n",
              "\n",
              "    Volume  \n",
              "0  1537600  \n",
              "1  1870900  \n",
              "2  1143100  \n",
              "3  1370200  \n",
              "4  1680700  "
            ]
          },
          "execution_count": 50,
          "metadata": {},
          "output_type": "execute_result"
        }
      ],
      "source": [
        "df1.head()"
      ]
    },
    {
      "cell_type": "code",
      "execution_count": null,
      "id": "5253376e-b96e-458f-9586-4e99aa04a51a",
      "metadata": {
        "id": "5253376e-b96e-458f-9586-4e99aa04a51a"
      },
      "outputs": [],
      "source": [
        "df_=pd.concat([df,df1,df2],axis=1)"
      ]
    },
    {
      "cell_type": "code",
      "execution_count": null,
      "id": "2655115f-3d77-467c-a7f3-e5903c8dd4d3",
      "metadata": {
        "id": "2655115f-3d77-467c-a7f3-e5903c8dd4d3",
        "outputId": "43a01d01-296d-4fcf-c8a2-feaf7b24eef9"
      },
      "outputs": [
        {
          "data": {
            "text/html": [
              "<div>\n",
              "<style scoped>\n",
              "    .dataframe tbody tr th:only-of-type {\n",
              "        vertical-align: middle;\n",
              "    }\n",
              "\n",
              "    .dataframe tbody tr th {\n",
              "        vertical-align: top;\n",
              "    }\n",
              "\n",
              "    .dataframe thead th {\n",
              "        text-align: right;\n",
              "    }\n",
              "</style>\n",
              "<table border=\"1\" class=\"dataframe\">\n",
              "  <thead>\n",
              "    <tr style=\"text-align: right;\">\n",
              "      <th></th>\n",
              "      <th>Date</th>\n",
              "      <th>Open</th>\n",
              "      <th>High</th>\n",
              "      <th>Low</th>\n",
              "      <th>Close</th>\n",
              "      <th>Adj Close</th>\n",
              "      <th>Volume</th>\n",
              "      <th>Date</th>\n",
              "      <th>Open</th>\n",
              "      <th>High</th>\n",
              "      <th>...</th>\n",
              "      <th>Close</th>\n",
              "      <th>Adj Close</th>\n",
              "      <th>Volume</th>\n",
              "      <th>Date</th>\n",
              "      <th>Open</th>\n",
              "      <th>High</th>\n",
              "      <th>Low</th>\n",
              "      <th>Close</th>\n",
              "      <th>Adj Close</th>\n",
              "      <th>Volume</th>\n",
              "    </tr>\n",
              "  </thead>\n",
              "  <tbody>\n",
              "    <tr>\n",
              "      <th>0</th>\n",
              "      <td>2006-01-03</td>\n",
              "      <td>46.919998</td>\n",
              "      <td>47.180000</td>\n",
              "      <td>46.150002</td>\n",
              "      <td>47.080002</td>\n",
              "      <td>34.811729</td>\n",
              "      <td>16296700</td>\n",
              "      <td>2006-01-03</td>\n",
              "      <td>490.000000</td>\n",
              "      <td>493.799988</td>\n",
              "      <td>...</td>\n",
              "      <td>492.899994</td>\n",
              "      <td>436.462433</td>\n",
              "      <td>1537600</td>\n",
              "      <td>2006-01-03</td>\n",
              "      <td>126.699997</td>\n",
              "      <td>129.440002</td>\n",
              "      <td>124.230003</td>\n",
              "      <td>128.869995</td>\n",
              "      <td>106.263367</td>\n",
              "      <td>6188700</td>\n",
              "    </tr>\n",
              "    <tr>\n",
              "      <th>1</th>\n",
              "      <td>2006-01-04</td>\n",
              "      <td>47.000000</td>\n",
              "      <td>47.240002</td>\n",
              "      <td>46.450001</td>\n",
              "      <td>46.580002</td>\n",
              "      <td>34.442013</td>\n",
              "      <td>17757900</td>\n",
              "      <td>2006-01-04</td>\n",
              "      <td>488.600006</td>\n",
              "      <td>491.000000</td>\n",
              "      <td>...</td>\n",
              "      <td>483.799988</td>\n",
              "      <td>428.404449</td>\n",
              "      <td>1870900</td>\n",
              "      <td>2006-01-04</td>\n",
              "      <td>127.349998</td>\n",
              "      <td>128.910004</td>\n",
              "      <td>126.379997</td>\n",
              "      <td>127.089996</td>\n",
              "      <td>104.795609</td>\n",
              "      <td>4861600</td>\n",
              "    </tr>\n",
              "    <tr>\n",
              "      <th>2</th>\n",
              "      <td>2006-01-05</td>\n",
              "      <td>46.580002</td>\n",
              "      <td>46.830002</td>\n",
              "      <td>46.320000</td>\n",
              "      <td>46.639999</td>\n",
              "      <td>34.486385</td>\n",
              "      <td>14970700</td>\n",
              "      <td>2006-01-05</td>\n",
              "      <td>484.399994</td>\n",
              "      <td>487.799988</td>\n",
              "      <td>...</td>\n",
              "      <td>486.200012</td>\n",
              "      <td>430.529663</td>\n",
              "      <td>1143100</td>\n",
              "      <td>2006-01-05</td>\n",
              "      <td>126.000000</td>\n",
              "      <td>127.320000</td>\n",
              "      <td>125.610001</td>\n",
              "      <td>127.040001</td>\n",
              "      <td>104.754387</td>\n",
              "      <td>3717400</td>\n",
              "    </tr>\n",
              "    <tr>\n",
              "      <th>3</th>\n",
              "      <td>2006-01-06</td>\n",
              "      <td>46.799999</td>\n",
              "      <td>46.910000</td>\n",
              "      <td>46.349998</td>\n",
              "      <td>46.570000</td>\n",
              "      <td>34.434616</td>\n",
              "      <td>12599800</td>\n",
              "      <td>2006-01-06</td>\n",
              "      <td>488.799988</td>\n",
              "      <td>489.000000</td>\n",
              "      <td>...</td>\n",
              "      <td>486.200012</td>\n",
              "      <td>430.529663</td>\n",
              "      <td>1370200</td>\n",
              "      <td>2006-01-06</td>\n",
              "      <td>127.290001</td>\n",
              "      <td>129.250000</td>\n",
              "      <td>127.290001</td>\n",
              "      <td>128.839996</td>\n",
              "      <td>106.238571</td>\n",
              "      <td>4319600</td>\n",
              "    </tr>\n",
              "    <tr>\n",
              "      <th>4</th>\n",
              "      <td>2006-01-09</td>\n",
              "      <td>46.720001</td>\n",
              "      <td>46.970001</td>\n",
              "      <td>46.360001</td>\n",
              "      <td>46.599998</td>\n",
              "      <td>34.456806</td>\n",
              "      <td>15619400</td>\n",
              "      <td>2006-01-09</td>\n",
              "      <td>486.000000</td>\n",
              "      <td>487.399994</td>\n",
              "      <td>...</td>\n",
              "      <td>483.899994</td>\n",
              "      <td>428.493073</td>\n",
              "      <td>1680700</td>\n",
              "      <td>2006-01-09</td>\n",
              "      <td>128.500000</td>\n",
              "      <td>130.619995</td>\n",
              "      <td>128.000000</td>\n",
              "      <td>130.389999</td>\n",
              "      <td>107.516731</td>\n",
              "      <td>4723500</td>\n",
              "    </tr>\n",
              "  </tbody>\n",
              "</table>\n",
              "<p>5 rows × 21 columns</p>\n",
              "</div>"
            ],
            "text/plain": [
              "         Date       Open       High        Low      Close  Adj Close  \\\n",
              "0  2006-01-03  46.919998  47.180000  46.150002  47.080002  34.811729   \n",
              "1  2006-01-04  47.000000  47.240002  46.450001  46.580002  34.442013   \n",
              "2  2006-01-05  46.580002  46.830002  46.320000  46.639999  34.486385   \n",
              "3  2006-01-06  46.799999  46.910000  46.349998  46.570000  34.434616   \n",
              "4  2006-01-09  46.720001  46.970001  46.360001  46.599998  34.456806   \n",
              "\n",
              "     Volume        Date        Open        High  ...       Close   Adj Close  \\\n",
              "0  16296700  2006-01-03  490.000000  493.799988  ...  492.899994  436.462433   \n",
              "1  17757900  2006-01-04  488.600006  491.000000  ...  483.799988  428.404449   \n",
              "2  14970700  2006-01-05  484.399994  487.799988  ...  486.200012  430.529663   \n",
              "3  12599800  2006-01-06  488.799988  489.000000  ...  486.200012  430.529663   \n",
              "4  15619400  2006-01-09  486.000000  487.399994  ...  483.899994  428.493073   \n",
              "\n",
              "    Volume        Date        Open        High         Low       Close  \\\n",
              "0  1537600  2006-01-03  126.699997  129.440002  124.230003  128.869995   \n",
              "1  1870900  2006-01-04  127.349998  128.910004  126.379997  127.089996   \n",
              "2  1143100  2006-01-05  126.000000  127.320000  125.610001  127.040001   \n",
              "3  1370200  2006-01-06  127.290001  129.250000  127.290001  128.839996   \n",
              "4  1680700  2006-01-09  128.500000  130.619995  128.000000  130.389999   \n",
              "\n",
              "    Adj Close   Volume  \n",
              "0  106.263367  6188700  \n",
              "1  104.795609  4861600  \n",
              "2  104.754387  3717400  \n",
              "3  106.238571  4319600  \n",
              "4  107.516731  4723500  \n",
              "\n",
              "[5 rows x 21 columns]"
            ]
          },
          "execution_count": 49,
          "metadata": {},
          "output_type": "execute_result"
        }
      ],
      "source": [
        "df_.head()"
      ]
    },
    {
      "cell_type": "code",
      "execution_count": null,
      "id": "9aa8d06f-7f7c-4c05-b058-be1ecc2d6a92",
      "metadata": {
        "id": "9aa8d06f-7f7c-4c05-b058-be1ecc2d6a92",
        "outputId": "5e95bb0f-43d0-4fea-e56d-bd26bd1781e9"
      },
      "outputs": [
        {
          "data": {
            "text/html": [
              "<div>\n",
              "<style scoped>\n",
              "    .dataframe tbody tr th:only-of-type {\n",
              "        vertical-align: middle;\n",
              "    }\n",
              "\n",
              "    .dataframe tbody tr th {\n",
              "        vertical-align: top;\n",
              "    }\n",
              "\n",
              "    .dataframe thead th {\n",
              "        text-align: right;\n",
              "    }\n",
              "</style>\n",
              "<table border=\"1\" class=\"dataframe\">\n",
              "  <thead>\n",
              "    <tr style=\"text-align: right;\">\n",
              "      <th></th>\n",
              "      <th>Date</th>\n",
              "      <th>Open</th>\n",
              "      <th>High</th>\n",
              "      <th>Low</th>\n",
              "      <th>Close</th>\n",
              "      <th>Adj Close</th>\n",
              "      <th>Volume</th>\n",
              "    </tr>\n",
              "  </thead>\n",
              "  <tbody>\n",
              "    <tr>\n",
              "      <th>0</th>\n",
              "      <td>2006-01-03</td>\n",
              "      <td>46.919998</td>\n",
              "      <td>47.180000</td>\n",
              "      <td>46.150002</td>\n",
              "      <td>47.080002</td>\n",
              "      <td>34.811729</td>\n",
              "      <td>16296700</td>\n",
              "    </tr>\n",
              "    <tr>\n",
              "      <th>1</th>\n",
              "      <td>2006-01-04</td>\n",
              "      <td>47.000000</td>\n",
              "      <td>47.240002</td>\n",
              "      <td>46.450001</td>\n",
              "      <td>46.580002</td>\n",
              "      <td>34.442013</td>\n",
              "      <td>17757900</td>\n",
              "    </tr>\n",
              "    <tr>\n",
              "      <th>2</th>\n",
              "      <td>2006-01-05</td>\n",
              "      <td>46.580002</td>\n",
              "      <td>46.830002</td>\n",
              "      <td>46.320000</td>\n",
              "      <td>46.639999</td>\n",
              "      <td>34.486385</td>\n",
              "      <td>14970700</td>\n",
              "    </tr>\n",
              "    <tr>\n",
              "      <th>3</th>\n",
              "      <td>2006-01-06</td>\n",
              "      <td>46.799999</td>\n",
              "      <td>46.910000</td>\n",
              "      <td>46.349998</td>\n",
              "      <td>46.570000</td>\n",
              "      <td>34.434616</td>\n",
              "      <td>12599800</td>\n",
              "    </tr>\n",
              "    <tr>\n",
              "      <th>4</th>\n",
              "      <td>2006-01-09</td>\n",
              "      <td>46.720001</td>\n",
              "      <td>46.970001</td>\n",
              "      <td>46.360001</td>\n",
              "      <td>46.599998</td>\n",
              "      <td>34.456806</td>\n",
              "      <td>15619400</td>\n",
              "    </tr>\n",
              "  </tbody>\n",
              "</table>\n",
              "</div>"
            ],
            "text/plain": [
              "         Date       Open       High        Low      Close  Adj Close    Volume\n",
              "0  2006-01-03  46.919998  47.180000  46.150002  47.080002  34.811729  16296700\n",
              "1  2006-01-04  47.000000  47.240002  46.450001  46.580002  34.442013  17757900\n",
              "2  2006-01-05  46.580002  46.830002  46.320000  46.639999  34.486385  14970700\n",
              "3  2006-01-06  46.799999  46.910000  46.349998  46.570000  34.434616  12599800\n",
              "4  2006-01-09  46.720001  46.970001  46.360001  46.599998  34.456806  15619400"
            ]
          },
          "execution_count": 51,
          "metadata": {},
          "output_type": "execute_result"
        }
      ],
      "source": [
        "df.head()"
      ]
    },
    {
      "cell_type": "code",
      "execution_count": null,
      "id": "7e007223-9a6d-4ade-b7d4-0390279fab98",
      "metadata": {
        "id": "7e007223-9a6d-4ade-b7d4-0390279fab98",
        "outputId": "15610b39-2288-416d-c14a-ccfcfeedc3d5"
      },
      "outputs": [
        {
          "data": {
            "text/plain": [
              "<bound method DataFrame.info of             Date       Open       High        Low      Close  Adj Close  \\\n",
              "0     2006-01-03  46.919998  47.180000  46.150002  47.080002  34.811729   \n",
              "1     2006-01-04  47.000000  47.240002  46.450001  46.580002  34.442013   \n",
              "2     2006-01-05  46.580002  46.830002  46.320000  46.639999  34.486385   \n",
              "3     2006-01-06  46.799999  46.910000  46.349998  46.570000  34.434616   \n",
              "4     2006-01-09  46.720001  46.970001  46.360001  46.599998  34.456806   \n",
              "...          ...        ...        ...        ...        ...        ...   \n",
              "3518  2019-12-24  35.189999  35.279999  35.119999  35.220001  34.513897   \n",
              "3519  2019-12-26  35.320000  35.560001  35.290001  35.520000  34.807880   \n",
              "3520  2019-12-27  35.700001  35.720001  35.259998  35.349998  34.641285   \n",
              "3521  2019-12-30  35.570000  35.650002  35.090000  35.150002  34.445301   \n",
              "3522  2019-12-31  35.029999  35.259998  34.970001  35.220001  34.513897   \n",
              "\n",
              "        Volume  \n",
              "0     16296700  \n",
              "1     17757900  \n",
              "2     14970700  \n",
              "3     12599800  \n",
              "4     15619400  \n",
              "...        ...  \n",
              "3518  13805400  \n",
              "3519  26992100  \n",
              "3520  28111300  \n",
              "3521  30705100  \n",
              "3522  29630100  \n",
              "\n",
              "[3523 rows x 7 columns]>"
            ]
          },
          "execution_count": 52,
          "metadata": {},
          "output_type": "execute_result"
        }
      ],
      "source": [
        "df.info"
      ]
    },
    {
      "cell_type": "code",
      "execution_count": null,
      "id": "f860c1f5-3799-4d5e-be12-a5568cf2a255",
      "metadata": {
        "id": "f860c1f5-3799-4d5e-be12-a5568cf2a255",
        "outputId": "21a8cd89-f316-4f66-ab89-7730833d67f2"
      },
      "outputs": [
        {
          "data": {
            "text/plain": [
              "Index(['Date', 'Open', 'High', 'Low', 'Close', 'Adj Close', 'Volume'], dtype='object')"
            ]
          },
          "execution_count": 53,
          "metadata": {},
          "output_type": "execute_result"
        }
      ],
      "source": [
        "df.columns"
      ]
    },
    {
      "cell_type": "code",
      "execution_count": null,
      "id": "472abb50-94dd-43c5-ba90-c54e6f21af57",
      "metadata": {
        "id": "472abb50-94dd-43c5-ba90-c54e6f21af57"
      },
      "outputs": [],
      "source": [
        "df['Year'] = pd.DatetimeIndex(df['Date']).year"
      ]
    },
    {
      "cell_type": "code",
      "execution_count": null,
      "id": "0f657194-e6d3-4dcd-95b0-8c2b5695b06b",
      "metadata": {
        "id": "0f657194-e6d3-4dcd-95b0-8c2b5695b06b",
        "outputId": "416a06d3-49dc-4479-856f-e9ee6f7ffd50"
      },
      "outputs": [
        {
          "data": {
            "text/plain": [
              "Index(['Date', 'Open', 'High', 'Low', 'Close', 'Adj Close', 'Volume', 'Year'], dtype='object')"
            ]
          },
          "execution_count": 55,
          "metadata": {},
          "output_type": "execute_result"
        }
      ],
      "source": [
        "df.columns"
      ]
    },
    {
      "cell_type": "code",
      "execution_count": null,
      "id": "a90ce4f3-6260-44d5-b9b9-add51fd4ca85",
      "metadata": {
        "id": "a90ce4f3-6260-44d5-b9b9-add51fd4ca85",
        "outputId": "990d841f-299f-4e50-c6dc-059f7d2c3653"
      },
      "outputs": [
        {
          "data": {
            "text/html": [
              "<div>\n",
              "<style scoped>\n",
              "    .dataframe tbody tr th:only-of-type {\n",
              "        vertical-align: middle;\n",
              "    }\n",
              "\n",
              "    .dataframe tbody tr th {\n",
              "        vertical-align: top;\n",
              "    }\n",
              "\n",
              "    .dataframe thead th {\n",
              "        text-align: right;\n",
              "    }\n",
              "</style>\n",
              "<table border=\"1\" class=\"dataframe\">\n",
              "  <thead>\n",
              "    <tr style=\"text-align: right;\">\n",
              "      <th></th>\n",
              "      <th>Date</th>\n",
              "      <th>Open</th>\n",
              "      <th>High</th>\n",
              "      <th>Low</th>\n",
              "      <th>Close</th>\n",
              "      <th>Adj Close</th>\n",
              "      <th>Volume</th>\n",
              "      <th>Year</th>\n",
              "    </tr>\n",
              "  </thead>\n",
              "  <tbody>\n",
              "    <tr>\n",
              "      <th>0</th>\n",
              "      <td>2006-01-03</td>\n",
              "      <td>46.919998</td>\n",
              "      <td>47.180000</td>\n",
              "      <td>46.150002</td>\n",
              "      <td>47.080002</td>\n",
              "      <td>34.811729</td>\n",
              "      <td>16296700</td>\n",
              "      <td>2006</td>\n",
              "    </tr>\n",
              "    <tr>\n",
              "      <th>1</th>\n",
              "      <td>2006-01-04</td>\n",
              "      <td>47.000000</td>\n",
              "      <td>47.240002</td>\n",
              "      <td>46.450001</td>\n",
              "      <td>46.580002</td>\n",
              "      <td>34.442013</td>\n",
              "      <td>17757900</td>\n",
              "      <td>2006</td>\n",
              "    </tr>\n",
              "    <tr>\n",
              "      <th>2</th>\n",
              "      <td>2006-01-05</td>\n",
              "      <td>46.580002</td>\n",
              "      <td>46.830002</td>\n",
              "      <td>46.320000</td>\n",
              "      <td>46.639999</td>\n",
              "      <td>34.486385</td>\n",
              "      <td>14970700</td>\n",
              "      <td>2006</td>\n",
              "    </tr>\n",
              "    <tr>\n",
              "      <th>3</th>\n",
              "      <td>2006-01-06</td>\n",
              "      <td>46.799999</td>\n",
              "      <td>46.910000</td>\n",
              "      <td>46.349998</td>\n",
              "      <td>46.570000</td>\n",
              "      <td>34.434616</td>\n",
              "      <td>12599800</td>\n",
              "      <td>2006</td>\n",
              "    </tr>\n",
              "    <tr>\n",
              "      <th>4</th>\n",
              "      <td>2006-01-09</td>\n",
              "      <td>46.720001</td>\n",
              "      <td>46.970001</td>\n",
              "      <td>46.360001</td>\n",
              "      <td>46.599998</td>\n",
              "      <td>34.456806</td>\n",
              "      <td>15619400</td>\n",
              "      <td>2006</td>\n",
              "    </tr>\n",
              "  </tbody>\n",
              "</table>\n",
              "</div>"
            ],
            "text/plain": [
              "         Date       Open       High        Low      Close  Adj Close  \\\n",
              "0  2006-01-03  46.919998  47.180000  46.150002  47.080002  34.811729   \n",
              "1  2006-01-04  47.000000  47.240002  46.450001  46.580002  34.442013   \n",
              "2  2006-01-05  46.580002  46.830002  46.320000  46.639999  34.486385   \n",
              "3  2006-01-06  46.799999  46.910000  46.349998  46.570000  34.434616   \n",
              "4  2006-01-09  46.720001  46.970001  46.360001  46.599998  34.456806   \n",
              "\n",
              "     Volume  Year  \n",
              "0  16296700  2006  \n",
              "1  17757900  2006  \n",
              "2  14970700  2006  \n",
              "3  12599800  2006  \n",
              "4  15619400  2006  "
            ]
          },
          "execution_count": 56,
          "metadata": {},
          "output_type": "execute_result"
        }
      ],
      "source": [
        "df.head()"
      ]
    },
    {
      "cell_type": "code",
      "execution_count": null,
      "id": "33f121cc-5e19-4d95-9578-a8650cebed87",
      "metadata": {
        "id": "33f121cc-5e19-4d95-9578-a8650cebed87",
        "outputId": "a7a69157-e188-4bc7-c4ad-94c7c9f51457"
      },
      "outputs": [
        {
          "data": {
            "text/plain": [
              "14"
            ]
          },
          "execution_count": 58,
          "metadata": {},
          "output_type": "execute_result"
        }
      ],
      "source": [
        "df['Year'].nunique()"
      ]
    },
    {
      "cell_type": "code",
      "execution_count": null,
      "id": "9f386a2f-245e-4969-bb27-bf4ce38806e3",
      "metadata": {
        "id": "9f386a2f-245e-4969-bb27-bf4ce38806e3"
      },
      "outputs": [],
      "source": [
        "x=df['Year']"
      ]
    },
    {
      "cell_type": "code",
      "execution_count": null,
      "id": "9399b6e2-a0d6-4e94-af6d-c89198c3f300",
      "metadata": {
        "id": "9399b6e2-a0d6-4e94-af6d-c89198c3f300"
      },
      "outputs": [],
      "source": [
        "y=df['Low']"
      ]
    },
    {
      "cell_type": "code",
      "execution_count": null,
      "id": "4521f1f5-9a00-456b-a2b6-4472ad6f172f",
      "metadata": {
        "id": "4521f1f5-9a00-456b-a2b6-4472ad6f172f",
        "outputId": "7be17eba-5062-4ce1-a095-89ef2fbe1a84"
      },
      "outputs": [
        {
          "data": {
            "image/png": "[encoded data removed]",
            "text/plain": [
              "<Figure size 640x480 with 1 Axes>"
            ]
          },
          "metadata": {},
          "output_type": "display_data"
        }
      ],
      "source": [
        "plt.plot(x,y,color='red')\n",
        "plt.title('Yearly Distribution Of lowest price of shares')\n",
        "plt.xlabel('Volume')\n",
        "plt.ylabel('Year')\n",
        "plt.show()"
      ]
    },
    {
      "cell_type": "code",
      "execution_count": null,
      "id": "dfc40910-5017-4af6-948f-7bc7099f564a",
      "metadata": {
        "id": "dfc40910-5017-4af6-948f-7bc7099f564a",
        "outputId": "4dae670a-ad40-49bf-bb65-ab10c176fe5c"
      },
      "outputs": [
        {
          "data": {
            "image/png": "[encoded data removed]",
            "text/plain": [
              "<Figure size 640x480 with 1 Axes>"
            ]
          },
          "metadata": {},
          "output_type": "display_data"
        }
      ],
      "source": [
        "plt.scatter(df['Close'],df['Year'],color='red',marker=\"*\",alpha=0.4,s=10)\n",
        "plt.title('Yearly Distribution Of close price of shares')\n",
        "plt.xlabel('closed price')\n",
        "plt.ylabel('Year')\n",
        "plt.show()"
      ]
    },
    {
      "cell_type": "code",
      "execution_count": null,
      "id": "76ff8cee-fa78-44e8-afcd-f38f5f634c0b",
      "metadata": {
        "id": "76ff8cee-fa78-44e8-afcd-f38f5f634c0b"
      },
      "outputs": [],
      "source": [
        "a=df['Year']"
      ]
    },
    {
      "cell_type": "code",
      "execution_count": null,
      "id": "a703d7e9-a428-4679-9126-ed4ee13c6cc6",
      "metadata": {
        "id": "a703d7e9-a428-4679-9126-ed4ee13c6cc6"
      },
      "outputs": [],
      "source": [
        "b=df['Open']"
      ]
    },
    {
      "cell_type": "code",
      "execution_count": null,
      "id": "92af32a0-d685-4e15-87d0-4ed40a13813a",
      "metadata": {
        "id": "92af32a0-d685-4e15-87d0-4ed40a13813a",
        "outputId": "05cd725c-e630-4217-e297-3b988c8a23b0"
      },
      "outputs": [
        {
          "data": {
            "image/png": "[encoded data removed]",
            "text/plain": [
              "<Figure size 640x480 with 1 Axes>"
            ]
          },
          "metadata": {},
          "output_type": "display_data"
        }
      ],
      "source": [
        "plt.plot(a,b,color='red')\n",
        "plt.title('Yearly Distribution Of open price of shares')\n",
        "plt.xlabel('Volume')\n",
        "plt.ylabel('Year')\n",
        "plt.show()"
      ]
    },
    {
      "cell_type": "code",
      "execution_count": null,
      "id": "6c6502f6-bd6c-497c-b1c9-a57f8c1f9465",
      "metadata": {
        "id": "6c6502f6-bd6c-497c-b1c9-a57f8c1f9465"
      },
      "outputs": [],
      "source": [
        "c=df['High']"
      ]
    },
    {
      "cell_type": "code",
      "execution_count": null,
      "id": "db98ce78-9f6c-409b-b7b6-0c71f594895e",
      "metadata": {
        "id": "db98ce78-9f6c-409b-b7b6-0c71f594895e",
        "outputId": "1bab732a-3f94-4270-8798-8709a59e11bd"
      },
      "outputs": [
        {
          "data": {
            "image/png": "[encoded data removed]",
            "text/plain": [
              "<Figure size 640x480 with 1 Axes>"
            ]
          },
          "metadata": {},
          "output_type": "display_data"
        }
      ],
      "source": [
        "plt.plot(c,x,color='red')\n",
        "plt.title('Yearly Distribution Of highest price of shares')\n",
        "plt.xlabel('Volume')\n",
        "plt.ylabel('Year')\n",
        "plt.show()"
      ]
    },
    {
      "cell_type": "code",
      "execution_count": null,
      "id": "e71ef2a3-179b-4685-860d-4daedf2c3c00",
      "metadata": {
        "id": "e71ef2a3-179b-4685-860d-4daedf2c3c00",
        "outputId": "f4271a19-39c9-4c08-8e28-33229a4b6a27"
      },
      "outputs": [
        {
          "data": {
            "text/html": [
              "<div>\n",
              "<style scoped>\n",
              "    .dataframe tbody tr th:only-of-type {\n",
              "        vertical-align: middle;\n",
              "    }\n",
              "\n",
              "    .dataframe tbody tr th {\n",
              "        vertical-align: top;\n",
              "    }\n",
              "\n",
              "    .dataframe thead th {\n",
              "        text-align: right;\n",
              "    }\n",
              "</style>\n",
              "<table border=\"1\" class=\"dataframe\">\n",
              "  <thead>\n",
              "    <tr style=\"text-align: right;\">\n",
              "      <th></th>\n",
              "      <th>Date</th>\n",
              "      <th>Open</th>\n",
              "      <th>High</th>\n",
              "      <th>Low</th>\n",
              "      <th>Close</th>\n",
              "      <th>Adj Close</th>\n",
              "      <th>Volume</th>\n",
              "      <th>Year</th>\n",
              "    </tr>\n",
              "  </thead>\n",
              "  <tbody>\n",
              "    <tr>\n",
              "      <th>0</th>\n",
              "      <td>2006-01-03</td>\n",
              "      <td>46.919998</td>\n",
              "      <td>47.180000</td>\n",
              "      <td>46.150002</td>\n",
              "      <td>47.080002</td>\n",
              "      <td>34.811729</td>\n",
              "      <td>16296700</td>\n",
              "      <td>2006</td>\n",
              "    </tr>\n",
              "    <tr>\n",
              "      <th>1</th>\n",
              "      <td>2006-01-04</td>\n",
              "      <td>47.000000</td>\n",
              "      <td>47.240002</td>\n",
              "      <td>46.450001</td>\n",
              "      <td>46.580002</td>\n",
              "      <td>34.442013</td>\n",
              "      <td>17757900</td>\n",
              "      <td>2006</td>\n",
              "    </tr>\n",
              "    <tr>\n",
              "      <th>2</th>\n",
              "      <td>2006-01-05</td>\n",
              "      <td>46.580002</td>\n",
              "      <td>46.830002</td>\n",
              "      <td>46.320000</td>\n",
              "      <td>46.639999</td>\n",
              "      <td>34.486385</td>\n",
              "      <td>14970700</td>\n",
              "      <td>2006</td>\n",
              "    </tr>\n",
              "    <tr>\n",
              "      <th>3</th>\n",
              "      <td>2006-01-06</td>\n",
              "      <td>46.799999</td>\n",
              "      <td>46.910000</td>\n",
              "      <td>46.349998</td>\n",
              "      <td>46.570000</td>\n",
              "      <td>34.434616</td>\n",
              "      <td>12599800</td>\n",
              "      <td>2006</td>\n",
              "    </tr>\n",
              "    <tr>\n",
              "      <th>4</th>\n",
              "      <td>2006-01-09</td>\n",
              "      <td>46.720001</td>\n",
              "      <td>46.970001</td>\n",
              "      <td>46.360001</td>\n",
              "      <td>46.599998</td>\n",
              "      <td>34.456806</td>\n",
              "      <td>15619400</td>\n",
              "      <td>2006</td>\n",
              "    </tr>\n",
              "  </tbody>\n",
              "</table>\n",
              "</div>"
            ],
            "text/plain": [
              "         Date       Open       High        Low      Close  Adj Close  \\\n",
              "0  2006-01-03  46.919998  47.180000  46.150002  47.080002  34.811729   \n",
              "1  2006-01-04  47.000000  47.240002  46.450001  46.580002  34.442013   \n",
              "2  2006-01-05  46.580002  46.830002  46.320000  46.639999  34.486385   \n",
              "3  2006-01-06  46.799999  46.910000  46.349998  46.570000  34.434616   \n",
              "4  2006-01-09  46.720001  46.970001  46.360001  46.599998  34.456806   \n",
              "\n",
              "     Volume  Year  \n",
              "0  16296700  2006  \n",
              "1  17757900  2006  \n",
              "2  14970700  2006  \n",
              "3  12599800  2006  \n",
              "4  15619400  2006  "
            ]
          },
          "execution_count": 86,
          "metadata": {},
          "output_type": "execute_result"
        }
      ],
      "source": [
        "df.head()"
      ]
    },
    {
      "cell_type": "code",
      "execution_count": null,
      "id": "fb771fcc-77d1-4adc-9531-5a542e2e7fd1",
      "metadata": {
        "id": "fb771fcc-77d1-4adc-9531-5a542e2e7fd1"
      },
      "outputs": [],
      "source": [
        "d=df['Volume']"
      ]
    },
    {
      "cell_type": "code",
      "execution_count": null,
      "id": "8925c010-706c-4138-a61f-e3a4b1b6b9bb",
      "metadata": {
        "id": "8925c010-706c-4138-a61f-e3a4b1b6b9bb",
        "outputId": "da9be44f-6272-4a56-d705-e2b791497162"
      },
      "outputs": [
        {
          "data": {
            "image/png": "[encoded data removed]",
            "text/plain": [
              "<Figure size 640x480 with 1 Axes>"
            ]
          },
          "metadata": {},
          "output_type": "display_data"
        }
      ],
      "source": [
        "plt.bar(x,d,color='#14E534',label='year wise volume',alpha=0.5)\n",
        "plt.plot(x,d,marker=\"*\",color=\"red\")\n",
        "plt.xlabel('Year')\n",
        "plt.ylabel('Volume')\n",
        "plt.title('Yearly distribution of volume of shares')\n",
        "plt.legend()\n",
        "plt.show()"
      ]
    },
    {
      "cell_type": "code",
      "execution_count": null,
      "id": "e1909175-146a-479f-860a-63e6d4ec0837",
      "metadata": {
        "id": "e1909175-146a-479f-860a-63e6d4ec0837"
      },
      "outputs": [],
      "source": []
    }
  ],
  "metadata": {
    "kernelspec": {
      "display_name": "Python 3 (ipykernel)",
      "language": "python",
      "name": "python3"
    },
    "language_info": {
      "codemirror_mode": {
        "name": "ipython",
        "version": 3
      },
      "file_extension": ".py",
      "mimetype": "text/x-python",
      "name": "python",
      "nbconvert_exporter": "python",
      "pygments_lexer": "ipython3",
      "version": "3.11.7"
    },
    "colab": {
      "provenance": [],
      "include_colab_link": true
    }
  },
  "nbformat": 4,
  "nbformat_minor": 5
}